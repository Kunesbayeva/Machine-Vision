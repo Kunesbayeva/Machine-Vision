{
 "cells": [
  {
   "cell_type": "code",
   "execution_count": 6,
   "metadata": {},
   "outputs": [
    {
     "data": {
      "text/plain": [
       "<matplotlib.image.AxesImage at 0x6bb6bfd7b8>"
      ]
     },
     "execution_count": 6,
     "metadata": {},
     "output_type": "execute_result"
    }
   ],
   "source": [
    "import os\n",
    "import numpy as np\n",
    "from skimage import data\n",
    "import matplotlib.pyplot as plt\n",
    "from skimage.data import data_dir\n",
    "import matplotlib.image as pltimg\n",
    "from skimage.morphology import disk\n",
    "from skimage import feature\n",
    "\n",
    "img = pltimg.imread('image.jpg')\n",
    "im = data.imread(os.path.join(data_dir, \"image.jpg\"), as_grey=True)\n",
    "#im = pltimg.imread('6_26.jpg')\n",
    "temp = img[:,:,1]\n",
    "img[:,:,1] = img[:,:,2]\n",
    "img[:,:,2] = temp\n",
    "# canny filter\n",
    "edges1 = feature.canny(im)\n",
    "edges2 = feature.canny(im, sigma=3)\n",
    "fig = plt.figure(figsize=(15,10))\n",
    "plt.subplot(221)\n",
    "plt.title(\"Image in red\", fontsize=15)\n",
    "plt.imshow(im)\n",
    "plt.subplot(222)\n",
    "plt.imshow(edges1, cmap=plt.cm.gray)\n",
    "plt.subplot(223)\n",
    "plt.imshow(edges2, cmap=plt.cm.gray)\n"
   ]
  },
  {
   "cell_type": "code",
   "execution_count": null,
   "metadata": {
    "collapsed": true
   },
   "outputs": [],
   "source": []
  }
 ],
 "metadata": {
  "kernelspec": {
   "display_name": "Python 3",
   "language": "python",
   "name": "python3"
  },
  "language_info": {
   "codemirror_mode": {
    "name": "ipython",
    "version": 3
   },
   "file_extension": ".py",
   "mimetype": "text/x-python",
   "name": "python",
   "nbconvert_exporter": "python",
   "pygments_lexer": "ipython3",
   "version": "3.6.1"
  }
 },
 "nbformat": 4,
 "nbformat_minor": 2
}
