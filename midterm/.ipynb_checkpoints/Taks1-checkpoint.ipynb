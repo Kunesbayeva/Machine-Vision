{
 "cells": [
  {
   "cell_type": "code",
   "execution_count": null,
   "metadata": {
    "collapsed": true
   },
   "outputs": [],
   "source": [
    "def salt_n_pepper(img, pad = 101, show = 1):\n",
    "    # Convert img1 to 0 to 1 float to avoid wrapping that occurs with uint8\n",
    "    img = to_std_float(img)\n",
    "     \n",
    "    # Generate noise to be added to the image. We are interested in occurrences of high\n",
    "    # and low bounds of pad. Increased pad size lowers occurence of high and low bounds.\n",
    "    # These high and low bounds are converted to salt and pepper noise later in the \n",
    "    # function. randint is inclusive of low bound and exclusive of high bound.\n",
    "    noise = np.random.randint(pad, size = (img.shape[0], img.shape[1], 1))\n",
    "     \n",
    "    # Convert high and low bounds of pad in noise to salt and pepper noise then add it to\n",
    "    # our image. 1 is subtracted from pad to match bounds behaviour of np.random.randint.\n",
    "    img = np.where(noise == 0, 0, img)\n",
    "    img = np.where(noise == (pad-1), 1, img)\n",
    "     \n",
    "    # Properly handles the conversion from float16 back to uint8\n",
    "    img = to_std_uint8(img)\n",
    "     \n",
    "    display_result(img, 'Image with Salt & Pepper Noise', show)\n",
    "     \n",
    "    return img"
   ]
  }
 ],
 "metadata": {
  "kernelspec": {
   "display_name": "Python 3",
   "language": "python",
   "name": "python3"
  },
  "language_info": {
   "codemirror_mode": {
    "name": "ipython",
    "version": 3
   },
   "file_extension": ".py",
   "mimetype": "text/x-python",
   "name": "python",
   "nbconvert_exporter": "python",
   "pygments_lexer": "ipython3",
   "version": "3.6.1"
  }
 },
 "nbformat": 4,
 "nbformat_minor": 2
}
